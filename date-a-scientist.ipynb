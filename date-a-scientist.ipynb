{
 "cells": [
  {
   "cell_type": "code",
   "execution_count": null,
   "metadata": {},
   "outputs": [],
   "source": [
    "import pandas as pd"
   ]
  },
  {
   "cell_type": "code",
   "execution_count": 96,
   "metadata": {},
   "outputs": [
    {
     "name": "stdout",
     "output_type": "stream",
     "text": [
      "                               education  income\n",
      "0          working on college/university      -1\n",
      "1                  working on space camp   80000\n",
      "2         graduated from masters program      -1\n",
      "3          working on college/university   20000\n",
      "4      graduated from college/university      -1\n",
      "...                                  ...     ...\n",
      "59941  graduated from college/university      -1\n",
      "59942      working on college/university      -1\n",
      "59943     graduated from masters program  100000\n",
      "59944      working on college/university      -1\n",
      "59945     graduated from masters program      -1\n",
      "\n",
      "[59946 rows x 2 columns]\n"
     ]
    }
   ],
   "source": [
    "\n",
    "data=pd.read_csv('C:/Users/OLUWAFEMI/Downloads/OKCupid-Date-A-Scientist-Starter/OKCupid-Date-A-Scientist-Starter/profiles.csv')\n",
    "with pd.option_context('display.max_rows', 50,):\n",
    "    print(data[['education','income']])\n",
    "print(data.info())    "
   ]
  },
  {
   "cell_type": "code",
   "execution_count": 97,
   "metadata": {},
   "outputs": [],
   "source": [
    "#print(data.columns)\n",
    "#print(type(1.1)=='int')\n",
    "list=[1,2,4]\n",
    "a=pd.Series(list)\n",
    "#print(a.loc[2])\n",
    "#print('femi'.split(' '))"
   ]
  },
  {
   "cell_type": "code",
   "execution_count": 98,
   "metadata": {},
   "outputs": [
    {
     "name": "stderr",
     "output_type": "stream",
     "text": [
      "C:\\Users\\OLUWAFEMI\\AppData\\Local\\Temp\\ipykernel_5792\\3287885215.py:10: SettingWithCopyWarning: \n",
      "A value is trying to be set on a copy of a slice from a DataFrame\n",
      "\n",
      "See the caveats in the documentation: https://pandas.pydata.org/pandas-docs/stable/user_guide/indexing.html#returning-a-view-versus-a-copy\n",
      "  data1['income'][data1.income==-1]=data1.income.map({-1:0})\n"
     ]
    }
   ],
   "source": [
    "data1=data.dropna(subset=['age','education','income','job','location','sex','speaks'])\n",
    "#print(data1.education.value_counts(dropna=False))\n",
    "\n",
    "data1.reset_index(inplace=True)        \n",
    "#print(len(education))\n",
    "#data1['education']=pd.Series(education)\n",
    "#print(len(data1.education))\n",
    "#print(data1.education.value_counts(dropna=False))\n",
    "#print(data1)\n",
    "data1['income'][data1.income==-1]=data1.income.map({-1:0})\n",
    "#print(data1.income.value_counts())\n",
    "#print(data1.job.value_counts())\n",
    "#data1['job']=data1.job.map({'other':3,'student':2,'retired':4,'unemployed':1,'rather not say':5,'transportation':6,'construction / craftsmanship':7,'hospitality / travel':8,'military':9,'education / academia':13,'law / legal services':11,'science / tech / engineering':18,'medicine / health':17,'entertainment / media':14,'computer / hardware / software':20,'artistic / musical / writer':12,'sales / marketing / biz dev':10,'political / government':16,'banking / financial / real estate':19,'clerical / administrative':15,'executive / management':21})\n",
    "#print(data1.job.value_counts())\n",
    "#print(data1.location.value_counts(ascending=True).index)\n",
    "#print(data1.location.value_counts(ascending=True))\n",
    "data1.location.value_counts(ascending=True)\n",
    "loc=data1.location.value_counts(ascending=True).index.tolist()\n",
    "#print(data1.location)\n",
    "#print(loc)"
   ]
  },
  {
   "cell_type": "code",
   "execution_count": 99,
   "metadata": {},
   "outputs": [
    {
     "name": "stderr",
     "output_type": "stream",
     "text": [
      "C:\\Users\\OLUWAFEMI\\AppData\\Local\\Temp\\ipykernel_5792\\2733119429.py:9: SettingWithCopyWarning: \n",
      "A value is trying to be set on a copy of a slice from a DataFrame.\n",
      "Try using .loc[row_indexer,col_indexer] = value instead\n",
      "\n",
      "See the caveats in the documentation: https://pandas.pydata.org/pandas-docs/stable/user_guide/indexing.html#returning-a-view-versus-a-copy\n",
      "  data1['job']=pd.Series(job)\n"
     ]
    }
   ],
   "source": [
    "data_ij=data1[['job','income']]\n",
    "jobs=data1.job\n",
    "jb=data_ij.groupby('job').income.mean().reset_index().sort_values(by=['income']).job.tolist()\n",
    "job=[]\n",
    "for a in jobs:\n",
    "    for i in range(len(jb)):\n",
    "        if jb[i]==a:\n",
    "            job.append(i)\n",
    "data1['job']=pd.Series(job)\n",
    "#print(data1['job'])"
   ]
  },
  {
   "cell_type": "code",
   "execution_count": 100,
   "metadata": {},
   "outputs": [
    {
     "name": "stderr",
     "output_type": "stream",
     "text": [
      "C:\\Users\\OLUWAFEMI\\AppData\\Local\\Temp\\ipykernel_5792\\3913905584.py:12: SettingWithCopyWarning: \n",
      "A value is trying to be set on a copy of a slice from a DataFrame.\n",
      "Try using .loc[row_indexer,col_indexer] = value instead\n",
      "\n",
      "See the caveats in the documentation: https://pandas.pydata.org/pandas-docs/stable/user_guide/indexing.html#returning-a-view-versus-a-copy\n",
      "  data1['education']=pd.Series(education)\n"
     ]
    }
   ],
   "source": [
    "data_ie=data1[['education','income']]\n",
    "educations=data1.education\n",
    "#print(data_ie.groupby('education').income.mean().reset_index().sort_values(by=['income']))   \n",
    "ed=data_ie.groupby('education').income.mean().reset_index().sort_values(by=['income']).education.tolist()\n",
    "education=[]\n",
    "for a in educations:\n",
    "    for i in range(len(ed)):\n",
    "        if ed[i]==a:\n",
    "            education.append(i)\n",
    "#print(ed) \n",
    "#print(education)\n",
    "data1['education']=pd.Series(education)\n",
    "#print(data1['education'])"
   ]
  },
  {
   "cell_type": "code",
   "execution_count": 101,
   "metadata": {},
   "outputs": [],
   "source": [
    "def assign(data,x):\n",
    "    listc=data.columns.tolist()\n",
    "    value=listc[x]\n",
    "    data1=data.fillna(0)\n",
    "    data2=data.fillna(0)\n",
    "    dict={}\n",
    "    for j,col in enumerate(listc):\n",
    "        y=data1[col].dtype\n",
    "        if not y in ['float64','int64']:\n",
    "            data_col=data1[[value,col]]\n",
    "            cols=data1[col].tolist()\n",
    "            cgb=data_col.groupby(col)[value].mean().reset_index().sort_values(by=[value])[col].tolist()\n",
    "            column=[]\n",
    "            column1=[]\n",
    "            for a in cols:\n",
    "                for i in range(len(cgb)):\n",
    "                    if cgb[i]==a:\n",
    "                        column.append(i)\n",
    "            dict[col]=column\n",
    "        else:     \n",
    "            dict[col]=data1[col]\n",
    "    data1=pd.DataFrame(dict)\n",
    "    return data1,data2   "
   ]
  },
  {
   "cell_type": "code",
   "execution_count": 102,
   "metadata": {},
   "outputs": [
    {
     "name": "stderr",
     "output_type": "stream",
     "text": [
      "C:\\Users\\OLUWAFEMI\\AppData\\Local\\Temp\\ipykernel_5792\\2707804277.py:12: SettingWithCopyWarning: \n",
      "A value is trying to be set on a copy of a slice from a DataFrame.\n",
      "Try using .loc[row_indexer,col_indexer] = value instead\n",
      "\n",
      "See the caveats in the documentation: https://pandas.pydata.org/pandas-docs/stable/user_guide/indexing.html#returning-a-view-versus-a-copy\n",
      "  data1['age']=pd.Series(age)\n"
     ]
    }
   ],
   "source": [
    "data_ia=data1[['age','income']]\n",
    "ages=data1.age\n",
    "#print(data_ia.groupby('age').income.mean().reset_index().sort_values(by=['income']))   \n",
    "ag=data_ia.groupby('age').income.mean().reset_index().sort_values(by=['income']).age.tolist()\n",
    "age=[]\n",
    "for a in ages:\n",
    "    for i in range(len(ag)):\n",
    "        if ag[i]==a:\n",
    "            age.append(i)\n",
    "#print(ag) \n",
    "#print(age)\n",
    "data1['age']=pd.Series(age)\n",
    "#print(data1['age'])"
   ]
  },
  {
   "cell_type": "code",
   "execution_count": 103,
   "metadata": {},
   "outputs": [],
   "source": [
    "#print(data1.location)\n",
    "location=[]\n",
    "for a in data1.location:\n",
    "    for i in range(len(loc)):\n",
    "        if a==loc[i]:\n",
    "            location.append(i)\n",
    "#print(location)            "
   ]
  },
  {
   "cell_type": "code",
   "execution_count": 104,
   "metadata": {},
   "outputs": [
    {
     "name": "stderr",
     "output_type": "stream",
     "text": [
      "C:\\Users\\OLUWAFEMI\\AppData\\Local\\Temp\\ipykernel_5792\\2666482188.py:1: SettingWithCopyWarning: \n",
      "A value is trying to be set on a copy of a slice from a DataFrame.\n",
      "Try using .loc[row_indexer,col_indexer] = value instead\n",
      "\n",
      "See the caveats in the documentation: https://pandas.pydata.org/pandas-docs/stable/user_guide/indexing.html#returning-a-view-versus-a-copy\n",
      "  data1['location']=pd.Series(location)\n",
      "C:\\Users\\OLUWAFEMI\\AppData\\Local\\Temp\\ipykernel_5792\\2666482188.py:6: SettingWithCopyWarning: \n",
      "A value is trying to be set on a copy of a slice from a DataFrame.\n",
      "Try using .loc[row_indexer,col_indexer] = value instead\n",
      "\n",
      "See the caveats in the documentation: https://pandas.pydata.org/pandas-docs/stable/user_guide/indexing.html#returning-a-view-versus-a-copy\n",
      "  data1.sex=data1.sex.map({'m':1,'f':0})\n"
     ]
    }
   ],
   "source": [
    "data1['location']=pd.Series(location)\n",
    "\n",
    "#print(data1.location.value_counts())\n",
    "#print(data1.iloc[4])\n",
    "#print(data1.sex.value_counts())\n",
    "data1.sex=data1.sex.map({'m':1,'f':0})\n",
    "#print(data1.sex)\n",
    "#print(data1.speaks.value_counts())"
   ]
  },
  {
   "cell_type": "code",
   "execution_count": 105,
   "metadata": {},
   "outputs": [],
   "source": [
    "#print(data1.head())\n",
    "#print(data1[['education','income','job','location','sex']])\n",
    "#print(data1['location'].value_counts())"
   ]
  },
  {
   "cell_type": "code",
   "execution_count": null,
   "metadata": {},
   "outputs": [],
   "source": [
    "\n",
    "z,data=assign(data,18)\n",
    "#print(z.age.value_counts())\n",
    "#print(data.age.value_counts())\n",
    "print(z.columns.tolist()[18])\n",
    "for i,j in enumerate(z.columns.tolist()):\n",
    "    print(i,j)\n",
    "z.income[z.income==-1]=z.income[z.income==-1].map({-1:0})   \n",
    "data.income[data.income==-1]=data.income[z.income==-1].map({-1:0})"
   ]
  },
  {
   "cell_type": "code",
   "execution_count": 82,
   "metadata": {},
   "outputs": [
    {
     "name": "stdout",
     "output_type": "stream",
     "text": [
      "0.26664479835975663\n",
      "0.2626898079958646\n",
      "[[ 0.06755941  0.04623591  0.02945676  0.00144477  0.07284498  0.03772481\n",
      "   0.04363745  0.03866826  0.05033163  0.0351877   0.03761898  0.03808638\n",
      "   0.04063645  0.05123921  0.04664108  0.07922254  0.07269018  0.04897914\n",
      "   0.01415454  0.01071303  0.02148084  0.04013046 -0.03223198  0.08945279\n",
      "  -0.01301299  0.06367031  0.01726421  0.01537284]]\n"
     ]
    }
   ],
   "source": [
    "z.dropna(inplace=True)\n",
    "#print(z)\n",
    "import datetime\n",
    "i=datetime.datetime.now().second\n",
    "from sklearn.model_selection import train_test_split\n",
    "from sklearn.preprocessing import StandardScaler\n",
    "scaler=StandardScaler()\n",
    "x=z[z.columns.tolist()[1:16]+z.columns.tolist()[19:]+z.columns.tolist()[17:18]]\n",
    "scaler.fit(x)\n",
    "x=scaler.transform(x)\n",
    "y=z[['income']]\n",
    "y=scaler.fit_transform(y)\n",
    "x_train,x_test,y_train,y_test=train_test_split(x,y,train_size=0.9,random_state=i)\n",
    "from sklearn.linear_model import LinearRegression\n",
    "mlr=LinearRegression()\n",
    "mlr.fit(x_train,y_train)\n",
    "print(mlr.score(x_test,y_test))\n",
    "print(mlr.score(x_train,y_train))\n",
    "print(mlr.coef_)\n"
   ]
  },
  {
   "cell_type": "code",
   "execution_count": 94,
   "metadata": {},
   "outputs": [
    {
     "name": "stdout",
     "output_type": "stream",
     "text": [
      "Index(['age', 'body_type', 'diet', 'drinks', 'drugs', 'education', 'essay0',\n",
      "       'essay1', 'essay2', 'essay3', 'essay4', 'essay5', 'essay6', 'essay7',\n",
      "       'essay8', 'essay9', 'ethnicity', 'height', 'income', 'job',\n",
      "       'last_online', 'location', 'offspring', 'orientation', 'pets',\n",
      "       'religion', 'sex', 'sign', 'smokes', 'speaks', 'status'],\n",
      "      dtype='object')\n",
      "0.8571428571428572\n",
      "0.8367346938775511\n",
      "0.8151927437641724\n"
     ]
    }
   ],
   "source": [
    "print(z.columns)\n",
    "z_col=z.columns.tolist()\n",
    "x=z[z_col[:26]+z_col[27:]]\n",
    "y=z['sex']\n",
    "scaler=StandardScaler()\n",
    "x=scaler.fit_transform(x)\n",
    "x_train,x_test,y_train,y_test=train_test_split(x,y,train_size=0.8,random_state=i)\n",
    "from sklearn.metrics import accuracy_score,recall_score,precision_score,f1_score\n",
    "from sklearn.linear_model import LogisticRegression\n",
    "model=LogisticRegression()\n",
    "model.fit(x_train,y_train)\n",
    "y_pred=model.predict(x_test)\n",
    "print(f1_score(y_test,y_pred))\n",
    "print(model.score(x_test,y_test))\n",
    "#print(z.sex.value_counts())\n",
    "#print(data.sex.value_counts())\n",
    "from sklearn.neighbors import KNeighborsClassifier\n",
    "classifier=KNeighborsClassifier(n_neighbors=55)\n",
    "classifier.fit(x_train,y_train)\n",
    "print(classifier.score(x_test,y_test))"
   ]
  },
  {
   "cell_type": "code",
   "execution_count": null,
   "metadata": {},
   "outputs": [],
   "source": []
  }
 ],
 "metadata": {
  "kernelspec": {
   "display_name": "Python 3 (ipykernel)",
   "language": "python",
   "name": "python3"
  },
  "language_info": {
   "codemirror_mode": {
    "name": "ipython",
    "version": 3
   },
   "file_extension": ".py",
   "mimetype": "text/x-python",
   "name": "python",
   "nbconvert_exporter": "python",
   "pygments_lexer": "ipython3",
   "version": "3.9.12"
  }
 },
 "nbformat": 4,
 "nbformat_minor": 4
}
