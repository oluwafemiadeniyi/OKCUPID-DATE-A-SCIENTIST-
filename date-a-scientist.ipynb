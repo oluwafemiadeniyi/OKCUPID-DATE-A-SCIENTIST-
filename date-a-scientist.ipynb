{
 "cells": [
  {
   "cell_type": "code",
   "execution_count": 1,
   "metadata": {},
   "outputs": [],
   "source": [
    "import pandas as pd"
   ]
  },
  {
   "cell_type": "code",
   "execution_count": 2,
   "metadata": {},
   "outputs": [
    {
     "name": "stdout",
     "output_type": "stream",
     "text": [
      "                               education  income\n",
      "0          working on college/university      -1\n",
      "1                  working on space camp   80000\n",
      "2         graduated from masters program      -1\n",
      "3          working on college/university   20000\n",
      "4      graduated from college/university      -1\n",
      "...                                  ...     ...\n",
      "59941  graduated from college/university      -1\n",
      "59942      working on college/university      -1\n",
      "59943     graduated from masters program  100000\n",
      "59944      working on college/university      -1\n",
      "59945     graduated from masters program      -1\n",
      "\n",
      "[59946 rows x 2 columns]\n",
      "<class 'pandas.core.frame.DataFrame'>\n",
      "RangeIndex: 59946 entries, 0 to 59945\n",
      "Data columns (total 31 columns):\n",
      " #   Column       Non-Null Count  Dtype  \n",
      "---  ------       --------------  -----  \n",
      " 0   age          59946 non-null  int64  \n",
      " 1   body_type    54650 non-null  object \n",
      " 2   diet         35551 non-null  object \n",
      " 3   drinks       56961 non-null  object \n",
      " 4   drugs        45866 non-null  object \n",
      " 5   education    53318 non-null  object \n",
      " 6   essay0       54458 non-null  object \n",
      " 7   essay1       52374 non-null  object \n",
      " 8   essay2       50308 non-null  object \n",
      " 9   essay3       48470 non-null  object \n",
      " 10  essay4       49409 non-null  object \n",
      " 11  essay5       49096 non-null  object \n",
      " 12  essay6       46175 non-null  object \n",
      " 13  essay7       47495 non-null  object \n",
      " 14  essay8       40721 non-null  object \n",
      " 15  essay9       47343 non-null  object \n",
      " 16  ethnicity    54266 non-null  object \n",
      " 17  height       59943 non-null  float64\n",
      " 18  income       59946 non-null  int64  \n",
      " 19  job          51748 non-null  object \n",
      " 20  last_online  59946 non-null  object \n",
      " 21  location     59946 non-null  object \n",
      " 22  offspring    24385 non-null  object \n",
      " 23  orientation  59946 non-null  object \n",
      " 24  pets         40025 non-null  object \n",
      " 25  religion     39720 non-null  object \n",
      " 26  sex          59946 non-null  object \n",
      " 27  sign         48890 non-null  object \n",
      " 28  smokes       54434 non-null  object \n",
      " 29  speaks       59896 non-null  object \n",
      " 30  status       59946 non-null  object \n",
      "dtypes: float64(1), int64(2), object(28)\n",
      "memory usage: 14.2+ MB\n",
      "None\n"
     ]
    }
   ],
   "source": [
    "\n",
    "data=pd.read_csv('C:/Users/OLUWAFEMI/Downloads/OKCupid-Date-A-Scientist-Starter/OKCupid-Date-A-Scientist-Starter/profiles.csv')\n",
    "with pd.option_context('display.max_rows', 50,):\n",
    "    print(data[['education','income']])\n",
    "print(data.info())    "
   ]
  },
  {
   "cell_type": "code",
   "execution_count": 3,
   "metadata": {},
   "outputs": [],
   "source": [
    "#print(data.columns)\n",
    "#print(type(1.1)=='int')\n",
    "list=[1,2,4]\n",
    "a=pd.Series(list)\n",
    "#print(a.loc[2])\n",
    "#print('femi'.split(' '))"
   ]
  },
  {
   "cell_type": "code",
   "execution_count": 4,
   "metadata": {},
   "outputs": [
    {
     "name": "stderr",
     "output_type": "stream",
     "text": [
      "C:\\Users\\OLUWAFEMI\\AppData\\Local\\Temp\\ipykernel_9540\\3287885215.py:10: SettingWithCopyWarning: \n",
      "A value is trying to be set on a copy of a slice from a DataFrame\n",
      "\n",
      "See the caveats in the documentation: https://pandas.pydata.org/pandas-docs/stable/user_guide/indexing.html#returning-a-view-versus-a-copy\n",
      "  data1['income'][data1.income==-1]=data1.income.map({-1:0})\n"
     ]
    }
   ],
   "source": [
    "data1=data.dropna(subset=['age','education','income','job','location','sex','speaks'])\n",
    "#print(data1.education.value_counts(dropna=False))\n",
    "\n",
    "data1.reset_index(inplace=True)        \n",
    "#print(len(education))\n",
    "#data1['education']=pd.Series(education)\n",
    "#print(len(data1.education))\n",
    "#print(data1.education.value_counts(dropna=False))\n",
    "#print(data1)\n",
    "data1['income'][data1.income==-1]=data1.income.map({-1:0})\n",
    "#print(data1.income.value_counts())\n",
    "#print(data1.job.value_counts())\n",
    "#data1['job']=data1.job.map({'other':3,'student':2,'retired':4,'unemployed':1,'rather not say':5,'transportation':6,'construction / craftsmanship':7,'hospitality / travel':8,'military':9,'education / academia':13,'law / legal services':11,'science / tech / engineering':18,'medicine / health':17,'entertainment / media':14,'computer / hardware / software':20,'artistic / musical / writer':12,'sales / marketing / biz dev':10,'political / government':16,'banking / financial / real estate':19,'clerical / administrative':15,'executive / management':21})\n",
    "#print(data1.job.value_counts())\n",
    "#print(data1.location.value_counts(ascending=True).index)\n",
    "#print(data1.location.value_counts(ascending=True))\n",
    "data1.location.value_counts(ascending=True)\n",
    "loc=data1.location.value_counts(ascending=True).index.tolist()\n",
    "#print(data1.location)\n",
    "#print(loc)"
   ]
  },
  {
   "cell_type": "code",
   "execution_count": 5,
   "metadata": {},
   "outputs": [
    {
     "name": "stderr",
     "output_type": "stream",
     "text": [
      "C:\\Users\\OLUWAFEMI\\AppData\\Local\\Temp\\ipykernel_9540\\2733119429.py:9: SettingWithCopyWarning: \n",
      "A value is trying to be set on a copy of a slice from a DataFrame.\n",
      "Try using .loc[row_indexer,col_indexer] = value instead\n",
      "\n",
      "See the caveats in the documentation: https://pandas.pydata.org/pandas-docs/stable/user_guide/indexing.html#returning-a-view-versus-a-copy\n",
      "  data1['job']=pd.Series(job)\n"
     ]
    }
   ],
   "source": [
    "data_ij=data1[['job','income']]\n",
    "jobs=data1.job\n",
    "jb=data_ij.groupby('job').income.mean().reset_index().sort_values(by=['income']).job.tolist()\n",
    "job=[]\n",
    "for a in jobs:\n",
    "    for i in range(len(jb)):\n",
    "        if jb[i]==a:\n",
    "            job.append(i)\n",
    "data1['job']=pd.Series(job)\n",
    "#print(data1['job'])"
   ]
  },
  {
   "cell_type": "code",
   "execution_count": 6,
   "metadata": {},
   "outputs": [
    {
     "name": "stderr",
     "output_type": "stream",
     "text": [
      "C:\\Users\\OLUWAFEMI\\AppData\\Local\\Temp\\ipykernel_9540\\3913905584.py:12: SettingWithCopyWarning: \n",
      "A value is trying to be set on a copy of a slice from a DataFrame.\n",
      "Try using .loc[row_indexer,col_indexer] = value instead\n",
      "\n",
      "See the caveats in the documentation: https://pandas.pydata.org/pandas-docs/stable/user_guide/indexing.html#returning-a-view-versus-a-copy\n",
      "  data1['education']=pd.Series(education)\n"
     ]
    }
   ],
   "source": [
    "data_ie=data1[['education','income']]\n",
    "educations=data1.education\n",
    "#print(data_ie.groupby('education').income.mean().reset_index().sort_values(by=['income']))   \n",
    "ed=data_ie.groupby('education').income.mean().reset_index().sort_values(by=['income']).education.tolist()\n",
    "education=[]\n",
    "for a in educations:\n",
    "    for i in range(len(ed)):\n",
    "        if ed[i]==a:\n",
    "            education.append(i)\n",
    "#print(ed) \n",
    "#print(education)\n",
    "data1['education']=pd.Series(education)\n",
    "#print(data1['education'])"
   ]
  },
  {
   "cell_type": "code",
   "execution_count": 7,
   "metadata": {},
   "outputs": [],
   "source": [
    "def assign(data,x):\n",
    "    listc=data.columns.tolist()\n",
    "    value=listc[x]\n",
    "    data1=data.dropna()\n",
    "    data2=data.dropna()\n",
    "    dict={}\n",
    "    for j,col in enumerate(listc):\n",
    "        y=data1[col].dtype\n",
    "        if not y in ['float64','int64']:\n",
    "            data_col=data1[[value,col]]\n",
    "            cols=data1[col].tolist()\n",
    "            cgb=data_col.groupby(col)[value].mean().reset_index().sort_values(by=[value])[col].tolist()\n",
    "            column=[]\n",
    "            column1=[]\n",
    "            for a in cols:\n",
    "                for i in range(len(cgb)):\n",
    "                    if cgb[i]==a:\n",
    "                        column.append(i)\n",
    "            dict[col]=column\n",
    "        else:     \n",
    "            dict[col]=data1[col]\n",
    "    data1=pd.DataFrame(dict)\n",
    "    return data1,data2   "
   ]
  },
  {
   "cell_type": "code",
   "execution_count": 8,
   "metadata": {},
   "outputs": [
    {
     "name": "stderr",
     "output_type": "stream",
     "text": [
      "C:\\Users\\OLUWAFEMI\\AppData\\Local\\Temp\\ipykernel_9540\\2707804277.py:12: SettingWithCopyWarning: \n",
      "A value is trying to be set on a copy of a slice from a DataFrame.\n",
      "Try using .loc[row_indexer,col_indexer] = value instead\n",
      "\n",
      "See the caveats in the documentation: https://pandas.pydata.org/pandas-docs/stable/user_guide/indexing.html#returning-a-view-versus-a-copy\n",
      "  data1['age']=pd.Series(age)\n"
     ]
    }
   ],
   "source": [
    "data_ia=data1[['age','income']]\n",
    "ages=data1.age\n",
    "#print(data_ia.groupby('age').income.mean().reset_index().sort_values(by=['income']))   \n",
    "ag=data_ia.groupby('age').income.mean().reset_index().sort_values(by=['income']).age.tolist()\n",
    "age=[]\n",
    "for a in ages:\n",
    "    for i in range(len(ag)):\n",
    "        if ag[i]==a:\n",
    "            age.append(i)\n",
    "#print(ag) \n",
    "#print(age)\n",
    "data1['age']=pd.Series(age)\n",
    "#print(data1['age'])"
   ]
  },
  {
   "cell_type": "code",
   "execution_count": 9,
   "metadata": {},
   "outputs": [],
   "source": [
    "#print(data1.location)\n",
    "location=[]\n",
    "for a in data1.location:\n",
    "    for i in range(len(loc)):\n",
    "        if a==loc[i]:\n",
    "            location.append(i)\n",
    "#print(location)            "
   ]
  },
  {
   "cell_type": "code",
   "execution_count": 10,
   "metadata": {},
   "outputs": [
    {
     "name": "stderr",
     "output_type": "stream",
     "text": [
      "C:\\Users\\OLUWAFEMI\\AppData\\Local\\Temp\\ipykernel_9540\\2666482188.py:1: SettingWithCopyWarning: \n",
      "A value is trying to be set on a copy of a slice from a DataFrame.\n",
      "Try using .loc[row_indexer,col_indexer] = value instead\n",
      "\n",
      "See the caveats in the documentation: https://pandas.pydata.org/pandas-docs/stable/user_guide/indexing.html#returning-a-view-versus-a-copy\n",
      "  data1['location']=pd.Series(location)\n",
      "C:\\Users\\OLUWAFEMI\\AppData\\Local\\Temp\\ipykernel_9540\\2666482188.py:6: SettingWithCopyWarning: \n",
      "A value is trying to be set on a copy of a slice from a DataFrame.\n",
      "Try using .loc[row_indexer,col_indexer] = value instead\n",
      "\n",
      "See the caveats in the documentation: https://pandas.pydata.org/pandas-docs/stable/user_guide/indexing.html#returning-a-view-versus-a-copy\n",
      "  data1.sex=data1.sex.map({'m':1,'f':0})\n"
     ]
    }
   ],
   "source": [
    "data1['location']=pd.Series(location)\n",
    "\n",
    "#print(data1.location.value_counts())\n",
    "#print(data1.iloc[4])\n",
    "#print(data1.sex.value_counts())\n",
    "data1.sex=data1.sex.map({'m':1,'f':0})\n",
    "#print(data1.sex)\n",
    "#print(data1.speaks.value_counts())"
   ]
  },
  {
   "cell_type": "code",
   "execution_count": 11,
   "metadata": {},
   "outputs": [],
   "source": [
    "#print(data1.head())\n",
    "#print(data1[['education','income','job','location','sex']])\n",
    "#print(data1['location'].value_counts())"
   ]
  },
  {
   "cell_type": "code",
   "execution_count": 12,
   "metadata": {},
   "outputs": [
    {
     "name": "stdout",
     "output_type": "stream",
     "text": [
      "income\n",
      "0 age\n",
      "1 body_type\n",
      "2 diet\n",
      "3 drinks\n",
      "4 drugs\n",
      "5 education\n",
      "6 essay0\n",
      "7 essay1\n",
      "8 essay2\n",
      "9 essay3\n",
      "10 essay4\n",
      "11 essay5\n",
      "12 essay6\n",
      "13 essay7\n",
      "14 essay8\n",
      "15 essay9\n",
      "16 ethnicity\n",
      "17 height\n",
      "18 income\n",
      "19 job\n",
      "20 last_online\n",
      "21 location\n",
      "22 offspring\n",
      "23 orientation\n",
      "24 pets\n",
      "25 religion\n",
      "26 sex\n",
      "27 sign\n",
      "28 smokes\n",
      "29 speaks\n",
      "30 status\n"
     ]
    },
    {
     "name": "stderr",
     "output_type": "stream",
     "text": [
      "C:\\Users\\OLUWAFEMI\\AppData\\Local\\Temp\\ipykernel_9540\\2811018874.py:7: SettingWithCopyWarning: \n",
      "A value is trying to be set on a copy of a slice from a DataFrame\n",
      "\n",
      "See the caveats in the documentation: https://pandas.pydata.org/pandas-docs/stable/user_guide/indexing.html#returning-a-view-versus-a-copy\n",
      "  z.income[z.income==-1]=z.income[z.income==-1].map({-1:0})\n"
     ]
    }
   ],
   "source": [
    "\n",
    "z,data=assign(data,18)\n",
    "#print(z.age.value_counts())\n",
    "#print(data.age.value_counts())\n",
    "print(z.columns.tolist()[18])\n",
    "for i,j in enumerate(z.columns.tolist()):\n",
    "    print(i,j)\n",
    "z.income[z.income==-1]=z.income[z.income==-1].map({-1:0})   \n",
    "data.income[data.income==-1]=data.income[z.income==-1].map({-1:0})"
   ]
  },
  {
   "cell_type": "code",
   "execution_count": 13,
   "metadata": {},
   "outputs": [
    {
     "name": "stdout",
     "output_type": "stream",
     "text": [
      "0.2480723163892592\n",
      "0.2650356814287528\n",
      "[[ 0.06167336  0.05482846  0.02401135  0.00438054  0.08661668  0.03673802\n",
      "   0.04664699  0.04006462  0.0485671   0.04119756  0.03389385  0.03689657\n",
      "   0.03750554  0.04820205  0.04653726  0.08066591  0.07155097  0.05513342\n",
      "   0.01594137  0.01190862  0.01609834  0.04289659 -0.02744215  0.08540766\n",
      "  -0.00208854  0.06188144  0.02253048 -0.0014049 ]]\n"
     ]
    }
   ],
   "source": [
    "z.dropna(inplace=True)\n",
    "#print(z)\n",
    "import datetime\n",
    "i=datetime.datetime.now().second\n",
    "from sklearn.model_selection import train_test_split\n",
    "from sklearn.preprocessing import StandardScaler\n",
    "scaler=StandardScaler()\n",
    "x=z[z.columns.tolist()[1:16]+z.columns.tolist()[19:]+z.columns.tolist()[17:18]]\n",
    "scaler.fit(x)\n",
    "x=scaler.transform(x)\n",
    "y=z[['income']]\n",
    "y=scaler.fit_transform(y)\n",
    "x_train,x_test,y_train,y_test=train_test_split(x,y,train_size=0.9,random_state=i)\n",
    "from sklearn.linear_model import LinearRegression\n",
    "mlr=LinearRegression()\n",
    "mlr.fit(x_train,y_train)\n",
    "print(mlr.score(x_test,y_test))\n",
    "print(mlr.score(x_train,y_train))\n",
    "print(mlr.coef_)\n"
   ]
  },
  {
   "cell_type": "code",
   "execution_count": 14,
   "metadata": {},
   "outputs": [
    {
     "name": "stdout",
     "output_type": "stream",
     "text": [
      "Index(['age', 'body_type', 'diet', 'drinks', 'drugs', 'education', 'essay0',\n",
      "       'essay1', 'essay2', 'essay3', 'essay4', 'essay5', 'essay6', 'essay7',\n",
      "       'essay8', 'essay9', 'ethnicity', 'height', 'income', 'job',\n",
      "       'last_online', 'location', 'offspring', 'orientation', 'pets',\n",
      "       'religion', 'sex', 'sign', 'smokes', 'speaks', 'status'],\n",
      "      dtype='object')\n",
      "0.8635437881873728\n",
      "0.8480725623582767\n",
      "0.8015873015873016\n"
     ]
    }
   ],
   "source": [
    "print(z.columns)\n",
    "z_col=z.columns.tolist()\n",
    "x=z[z_col[:26]+z_col[27:]]\n",
    "y=z['sex']\n",
    "scaler=StandardScaler()\n",
    "x=scaler.fit_transform(x)\n",
    "x_train,x_test,y_train,y_test=train_test_split(x,y,train_size=0.8,random_state=i)\n",
    "from sklearn.metrics import accuracy_score,recall_score,precision_score,f1_score\n",
    "from sklearn.linear_model import LogisticRegression\n",
    "model=LogisticRegression()\n",
    "model.fit(x_train,y_train)\n",
    "y_pred=model.predict(x_test)\n",
    "print(f1_score(y_test,y_pred))\n",
    "print(model.score(x_test,y_test))\n",
    "#print(z.sex.value_counts())\n",
    "#print(data.sex.value_counts())\n",
    "from sklearn.neighbors import KNeighborsClassifier\n",
    "classifier=KNeighborsClassifier(n_neighbors=55)\n",
    "classifier.fit(x_train,y_train)\n",
    "print(classifier.score(x_test,y_test))"
   ]
  },
  {
   "cell_type": "code",
   "execution_count": 36,
   "metadata": {},
   "outputs": [
    {
     "name": "stdout",
     "output_type": "stream",
     "text": [
      "0.5827664399092971\n",
      "  (2, 2)\t1\n",
      "  (2, 4)\t1\n",
      "  (2, 24)\t1\n",
      "  (3, 4)\t1\n",
      "  (5, 1)\t1\n",
      "  (5, 3)\t1\n",
      "  (5, 16)\t1\n",
      "  (5, 20)\t1\n",
      "  (5, 23)\t3\n",
      "  (6, 4)\t1\n",
      "  (8, 2)\t1\n",
      "  (8, 4)\t1\n",
      "  (8, 16)\t1\n",
      "  (12, 16)\t2\n",
      "  (13, 23)\t1\n",
      "  (15, 16)\t1\n",
      "  (18, 2)\t1\n",
      "  (18, 16)\t1\n",
      "  (18, 23)\t4\n",
      "  (23, 16)\t1\n",
      "  (26, 2)\t1\n",
      "  (33, 4)\t1\n",
      "  (34, 16)\t1\n",
      "  (36, 16)\t1\n",
      "  (37, 2)\t1\n",
      "  :\t:\n",
      "  (3499, 19)\t1\n",
      "  (3499, 22)\t1\n",
      "  (3499, 23)\t3\n",
      "  (3500, 4)\t1\n",
      "  (3500, 24)\t1\n",
      "  (3501, 16)\t1\n",
      "  (3503, 2)\t1\n",
      "  (3505, 16)\t1\n",
      "  (3508, 2)\t2\n",
      "  (3508, 23)\t1\n",
      "  (3513, 1)\t1\n",
      "  (3513, 3)\t1\n",
      "  (3515, 2)\t1\n",
      "  (3515, 22)\t1\n",
      "  (3515, 23)\t1\n",
      "  (3516, 16)\t1\n",
      "  (3517, 16)\t1\n",
      "  (3517, 18)\t1\n",
      "  (3517, 23)\t1\n",
      "  (3519, 16)\t1\n",
      "  (3520, 21)\t1\n",
      "  (3521, 4)\t1\n",
      "  (3523, 1)\t1\n",
      "  (3523, 22)\t1\n",
      "  (3524, 4)\t1\n"
     ]
    }
   ],
   "source": [
    "from sklearn.feature_extraction.text import CountVectorizer\n",
    "from sklearn.naive_bayes import MultinomialNB\n",
    "import datetime\n",
    "i=datetime.datetime.now().second\n",
    "y=data['sex'].tolist()\n",
    "x=data[z_col[1:17]+z_col[19:]]\n",
    "x_train,x_test,y_train,y_test=train_test_split(x,y,train_size=0.8,random_state=i)\n",
    "s=[]\n",
    "for i in range(len(data)):\n",
    "      s.append(' '.join(data.iloc[i].tolist()[1:17] + data.iloc[i].tolist()[19:]))\n",
    "    \n",
    "trs=[]\n",
    "for i in range(len(x_train)):\n",
    "      trs.append(' '.join(x_train.iloc[i].tolist()[1:17] + x_train.iloc[i].tolist()[19:]))\n",
    "tes=[]\n",
    "for i in range(len(x_test)):\n",
    "      tes.append(' '.join(x_test.iloc[i].tolist()[1:17] + x_test.iloc[i].tolist()[19:]))        \n",
    "vectorizer=CountVectorizer()\n",
    "vectorizer.fit(x)\n",
    "train_count=vectorizer.transform(trs)\n",
    "test_count=vectorizer.transform(tes)\n",
    "classifier=MultinomialNB()\n",
    "classifier.fit(train_count,y_train)\n",
    "print(classifier.score(test_count,y_test))\n",
    "print(train_count)"
   ]
  },
  {
   "cell_type": "code",
   "execution_count": null,
   "metadata": {},
   "outputs": [],
   "source": []
  }
 ],
 "metadata": {
  "kernelspec": {
   "display_name": "Python 3 (ipykernel)",
   "language": "python",
   "name": "python3"
  },
  "language_info": {
   "codemirror_mode": {
    "name": "ipython",
    "version": 3
   },
   "file_extension": ".py",
   "mimetype": "text/x-python",
   "name": "python",
   "nbconvert_exporter": "python",
   "pygments_lexer": "ipython3",
   "version": "3.9.12"
  }
 },
 "nbformat": 4,
 "nbformat_minor": 4
}
