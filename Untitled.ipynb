{
 "cells": [
  {
   "cell_type": "code",
   "execution_count": 3,
   "id": "51908eec",
   "metadata": {},
   "outputs": [
    {
     "name": "stdout",
     "output_type": "stream",
     "text": [
      "                age        height          income\n",
      "count  59946.000000  59943.000000    59946.000000\n",
      "mean      32.340290     68.295281    20033.222534\n",
      "std        9.452779      3.994803    97346.192104\n",
      "min       18.000000      1.000000       -1.000000\n",
      "25%       26.000000     66.000000       -1.000000\n",
      "50%       30.000000     68.000000       -1.000000\n",
      "75%       37.000000     71.000000       -1.000000\n",
      "max      110.000000     95.000000  1000000.000000\n",
      "m    35829\n",
      "f    24117\n",
      "Name: sex, dtype: int64\n"
     ]
    },
    {
     "ename": "KeyboardInterrupt",
     "evalue": "",
     "output_type": "error",
     "traceback": [
      "\u001b[1;31m---------------------------------------------------------------------------\u001b[0m",
      "\u001b[1;31mKeyboardInterrupt\u001b[0m                         Traceback (most recent call last)",
      "Input \u001b[1;32mIn [3]\u001b[0m, in \u001b[0;36m<cell line: 29>\u001b[1;34m()\u001b[0m\n\u001b[0;32m     27\u001b[0m     data1\u001b[38;5;241m=\u001b[39mpd\u001b[38;5;241m.\u001b[39mDataFrame(\u001b[38;5;28mdict\u001b[39m)\n\u001b[0;32m     28\u001b[0m     \u001b[38;5;28;01mreturn\u001b[39;00m data1,data2\n\u001b[1;32m---> 29\u001b[0m x,data\u001b[38;5;241m=\u001b[39m\u001b[43massign\u001b[49m\u001b[43m(\u001b[49m\u001b[43mdata\u001b[49m\u001b[43m,\u001b[49m\u001b[38;5;241;43m18\u001b[39;49m\u001b[43m)\u001b[49m\n",
      "Input \u001b[1;32mIn [3]\u001b[0m, in \u001b[0;36massign\u001b[1;34m(data, x)\u001b[0m\n\u001b[0;32m     20\u001b[0m \u001b[38;5;28;01mfor\u001b[39;00m a \u001b[38;5;129;01min\u001b[39;00m cols:\n\u001b[0;32m     21\u001b[0m     \u001b[38;5;28;01mfor\u001b[39;00m i \u001b[38;5;129;01min\u001b[39;00m \u001b[38;5;28mrange\u001b[39m(\u001b[38;5;28mlen\u001b[39m(cgb)):\n\u001b[1;32m---> 22\u001b[0m         \u001b[38;5;28;01mif\u001b[39;00m \u001b[43mcgb\u001b[49m\u001b[43m[\u001b[49m\u001b[43mi\u001b[49m\u001b[43m]\u001b[49m\u001b[38;5;241m==\u001b[39ma:\n\u001b[0;32m     23\u001b[0m             column\u001b[38;5;241m.\u001b[39mappend(i)\n\u001b[0;32m     24\u001b[0m \u001b[38;5;28mdict\u001b[39m[col]\u001b[38;5;241m=\u001b[39mcolumn\n",
      "\u001b[1;31mKeyboardInterrupt\u001b[0m: "
     ]
    }
   ],
   "source": [
    "\n",
    "\n",
    "import pandas as pd\n",
    "\n",
    "data=pd.read_csv('C:/Users/OLUWAFEMI/Downloads/OKCupid-Date-A-Scientist-Starter/OKCupid-Date-A-Scientist-Starter/profiles.csv')\n",
    "print(data.describe())\n",
    "print(data.sex.value_counts())\n",
    "def assign(data,x):\n",
    "    listc=data.columns.tolist()\n",
    "    value=listc[x]\n",
    "    data1=data.dropna()\n",
    "    data2=data.dropna()\n",
    "    dict={}\n",
    "    for j,col in enumerate(listc):\n",
    "        y=data1[col].dtype\n",
    "        if not y in ['float64','int64']:\n",
    "            data_col=data1[[value,col]]\n",
    "            cols=data1[col].tolist()\n",
    "            cgb=data_col.groupby(col)[value].mean().reset_index().sort_values(by=[value])[col].tolist()\n",
    "            column=[]\n",
    "            column1=[]\n",
    "            for a in cols:\n",
    "                for i in range(len(cgb)):\n",
    "                    if cgb[i]==a:\n",
    "                        column.append(i)\n",
    "            dict[col]=column\n",
    "        else:     \n",
    "            dict[col]=data1[col]\n",
    "    data1=pd.DataFrame(dict)\n",
    "    return data1,data2\n",
    "x,data=assign(data,18)"
   ]
  },
  {
   "cell_type": "code",
   "execution_count": 3,
   "id": "089e9cbf",
   "metadata": {},
   "outputs": [],
   "source": [
    "#print(data.columns.tolist())"
   ]
  },
  {
   "cell_type": "code",
   "execution_count": 10,
   "id": "f96d5906",
   "metadata": {},
   "outputs": [
    {
     "name": "stdout",
     "output_type": "stream",
     "text": [
      "Index(['age', 'body_type', 'diet', 'drinks', 'drugs', 'education', 'essay0',\n",
      "       'essay1', 'essay2', 'essay3', 'essay4', 'essay5', 'essay6', 'essay7',\n",
      "       'essay8', 'essay9', 'ethnicity', 'height', 'income', 'job',\n",
      "       'last_online', 'location', 'offspring', 'orientation', 'pets',\n",
      "       'religion', 'sex', 'sign', 'smokes', 'speaks', 'status'],\n",
      "      dtype='object')\n",
      "1    3825\n",
      "0     308\n",
      "2     274\n",
      "Name: orientation, dtype: int64 straight    3825\n",
      "gay          308\n",
      "bisexual     274\n",
      "Name: orientation, dtype: int64\n"
     ]
    }
   ],
   "source": [
    "print(x.columns)\n",
    "#print(x.last_online.value_counts(),data.last_online.value_counts())\n",
    "print(x.orientation.value_counts(),data.orientation.value_counts())"
   ]
  },
  {
   "cell_type": "code",
   "execution_count": 1,
   "id": "67f693ae",
   "metadata": {},
   "outputs": [],
   "source": [
    "#print(x.dropna())\n",
    "#print(x.income)\n",
    "#print(data)\n",
    "#print(x.age.value_counts())\n",
    "#print(data.age.value_counts())"
   ]
  },
  {
   "cell_type": "code",
   "execution_count": null,
   "id": "0eacbf75",
   "metadata": {},
   "outputs": [],
   "source": []
  }
 ],
 "metadata": {
  "kernelspec": {
   "display_name": "Python 3 (ipykernel)",
   "language": "python",
   "name": "python3"
  },
  "language_info": {
   "codemirror_mode": {
    "name": "ipython",
    "version": 3
   },
   "file_extension": ".py",
   "mimetype": "text/x-python",
   "name": "python",
   "nbconvert_exporter": "python",
   "pygments_lexer": "ipython3",
   "version": "3.9.12"
  }
 },
 "nbformat": 4,
 "nbformat_minor": 5
}
